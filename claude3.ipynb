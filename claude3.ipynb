{
 "cells": [
  {
   "cell_type": "code",
   "outputs": [],
   "source": [
    "%load_ext autoreload\n",
    "%autoreload 2"
   ],
   "metadata": {
    "collapsed": false,
    "ExecuteTime": {
     "end_time": "2024-03-07T04:18:03.375372009Z",
     "start_time": "2024-03-07T04:18:03.371899671Z"
    }
   },
   "id": "e799c0ffb4902f57",
   "execution_count": 1
  },
  {
   "cell_type": "code",
   "outputs": [],
   "source": [
    "from griptape.structures import Agent\n",
    "from griptape.drivers import AmazonBedrockPromptDriver, BedrockClaudePromptModelDriver, BedrockClaude3PromptModelDriver\n",
    "from griptape.rules import Rule\n",
    "from griptape.config import StructureConfig, StructureGlobalDriversConfig\n",
    "import boto3\n",
    "\n",
    "# Create a session using a specific profile\n",
    "session = boto3.Session(profile_name=\"test-us-east-1\")\n",
    "from griptape.structures import Agent\n",
    "from griptape.tools import Calculator\n",
    "from griptape.tasks import ToolTask\n",
    "\n",
    "# Create an agent with the Calculator tool\n",
    "agent = Agent(\n",
    "    config=StructureConfig(\n",
    "        global_drivers=StructureGlobalDriversConfig(\n",
    "            prompt_driver=AmazonBedrockPromptDriver(\n",
    "                model=\"anthropic.claude-3-sonnet-20240229-v1:0\",\n",
    "                session=session,\n",
    "                prompt_model_driver=BedrockClaude3PromptModelDriver(),\n",
    "            ),\n",
    "        )\n",
    "    ),\n",
    "    tools=[Calculator(off_prompt=False)]\n",
    ")"
   ],
   "metadata": {
    "collapsed": false,
    "ExecuteTime": {
     "end_time": "2024-03-07T04:18:08.753868313Z",
     "start_time": "2024-03-07T04:18:03.876381687Z"
    }
   },
   "id": "e2816bdec0454df8",
   "execution_count": 2
  },
  {
   "cell_type": "code",
   "outputs": [
    {
     "data": {
      "text/plain": "\u001B[2;36m[03/07/24 05:18:14]\u001B[0m\u001B[2;36m \u001B[0m\u001B[34mINFO    \u001B[0m ToolTask 8336453a4dc8484ba4b58c28ea74e819                                             \n\u001B[2;36m                    \u001B[0m         Input: What is \u001B[1;36m10\u001B[0m raised to the power of \u001B[1;36m5\u001B[0m?                                           \n",
      "text/html": "<pre style=\"white-space:pre;overflow-x:auto;line-height:normal;font-family:Menlo,'DejaVu Sans Mono',consolas,'Courier New',monospace\"><span style=\"color: #7fbfbf; text-decoration-color: #7fbfbf\">[03/07/24 05:18:14] </span><span style=\"color: #000080; text-decoration-color: #000080\">INFO    </span> ToolTask 8336453a4dc8484ba4b58c28ea74e819                                             \n<span style=\"color: #7fbfbf; text-decoration-color: #7fbfbf\">                    </span>         Input: What is <span style=\"color: #008080; text-decoration-color: #008080; font-weight: bold\">10</span> raised to the power of <span style=\"color: #008080; text-decoration-color: #008080; font-weight: bold\">5</span>?                                           \n</pre>\n"
     },
     "metadata": {},
     "output_type": "display_data"
    }
   ],
   "source": [
    "task = ToolTask(\n",
    "    \"{{ args[0] }}\",\n",
    "    tool=Calculator(off_prompt=False),\n",
    ")\n",
    "\n",
    "agent.add_task(task)\n",
    "\n",
    "# Run the agent with a task to perform the arithmetic calculation of \\(10^5\\)\n",
    "agent.run(\"What is 10 raised to the power of 5?\")"
   ],
   "metadata": {
    "collapsed": false,
    "is_executing": true,
    "ExecuteTime": {
     "start_time": "2024-03-07T04:18:10.783044322Z"
    }
   },
   "id": "73f2b191218840a7",
   "execution_count": null
  }
 ],
 "metadata": {
  "kernelspec": {
   "display_name": "Python 3",
   "language": "python",
   "name": "python3"
  },
  "language_info": {
   "codemirror_mode": {
    "name": "ipython",
    "version": 2
   },
   "file_extension": ".py",
   "mimetype": "text/x-python",
   "name": "python",
   "nbconvert_exporter": "python",
   "pygments_lexer": "ipython2",
   "version": "2.7.6"
  }
 },
 "nbformat": 4,
 "nbformat_minor": 5
}
